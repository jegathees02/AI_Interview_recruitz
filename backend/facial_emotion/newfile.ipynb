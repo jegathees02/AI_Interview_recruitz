{
 "cells": [
  {
   "cell_type": "code",
   "execution_count": 6,
   "metadata": {},
   "outputs": [],
   "source": [
    "import cv2\n",
    "import numpy as np\n",
    "from keras.models import load_model\n"
   ]
  },
  {
   "cell_type": "code",
   "execution_count": 7,
   "metadata": {},
   "outputs": [],
   "source": [
    "loaded_model = load_model('faceConfidence2.h5')"
   ]
  },
  {
   "cell_type": "code",
   "execution_count": 8,
   "metadata": {},
   "outputs": [],
   "source": [
    "input_image_path = './test_img/2024-01-22-164509.jpg'  # Replace with the actual path\n",
    "input_img = cv2.imread(input_image_path)\n",
    "input_img = cv2.resize(input_img, (64, 64))  # Adjust dimensions based on your model's input shape\n",
    "input_img = input_img / 255.0  # Normalize the image if needed\n",
    "input_img = np.expand_dims(input_img, axis=0) "
   ]
  },
  {
   "cell_type": "code",
   "execution_count": 9,
   "metadata": {},
   "outputs": [
    {
     "name": "stdout",
     "output_type": "stream",
     "text": [
      "1/1 [==============================] - 0s 251ms/step\n",
      "[[0.14263926 0.27323493 0.16005452 0.4240713 ]]\n"
     ]
    }
   ],
   "source": [
    "predictions = loaded_model.predict(input_img)\n",
    "print(predictions)"
   ]
  },
  {
   "cell_type": "code",
   "execution_count": 5,
   "metadata": {},
   "outputs": [],
   "source": [
    "# cap = cv2.VideoCapture(0)\n",
    "\n",
    "# # Check if the camera is opened successfully\n",
    "# if not cap.isOpened():\n",
    "#     print(\"Error: Could not open camera.\")\n",
    "#     exit()\n",
    "\n",
    "# while True:\n",
    "#     # Capture a single frame\n",
    "#     ret, frame = cap.read()\n",
    "\n",
    "#     # Check if the frame was captured successfully\n",
    "#     if not ret:\n",
    "#         print(\"Error: Could not capture frame.\")\n",
    "#         break\n",
    "\n",
    "#     # Resize the frame to match the model's input dimensions\n",
    "#     input_img = cv2.resize(frame, (64, 64))\n",
    "#     input_img = input_img / 255.0  # Normalize the image if needed\n",
    "#     input_img = np.expand_dims(input_img, axis=0)  # Expand dimensions to match the input shape expected by the model\n",
    "\n",
    "#     # Make predictions using the loaded model\n",
    "#     predictions = loaded_model.predict(input_img)\n",
    "#     print(predictions)\n",
    "\n",
    "\n",
    "#     # Display the frame with prediction information\n",
    "#     # cv2.putText(frame, f\"Predicted Class: {predicted_class_label}\", (10, 30), cv2.FONT_HERSHEY_SIMPLEX, 1, (0, 255, 0), 2)\n",
    "#     cv2.imshow(\"Real-time Prediction\", frame)\n",
    "\n",
    "#     # Break the loop if the 'q' key is pressed\n",
    "#     if cv2.waitKey(1) & 0xFF == ord('q'):\n",
    "#         break\n",
    "\n",
    "# # Release the camera\n",
    "# cap.release()\n",
    "\n",
    "# # Close all OpenCV windows\n",
    "# cv2.destroyAllWindows()"
   ]
  },
  {
   "cell_type": "code",
   "execution_count": null,
   "metadata": {},
   "outputs": [],
   "source": []
  },
  {
   "cell_type": "code",
   "execution_count": null,
   "metadata": {},
   "outputs": [],
   "source": []
  }
 ],
 "metadata": {
  "kernelspec": {
   "display_name": "Python 3",
   "language": "python",
   "name": "python3"
  },
  "language_info": {
   "codemirror_mode": {
    "name": "ipython",
    "version": 3
   },
   "file_extension": ".py",
   "mimetype": "text/x-python",
   "name": "python",
   "nbconvert_exporter": "python",
   "pygments_lexer": "ipython3",
   "version": "3.10.12"
  }
 },
 "nbformat": 4,
 "nbformat_minor": 2
}
